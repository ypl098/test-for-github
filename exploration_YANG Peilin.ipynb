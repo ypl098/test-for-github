{
 "cells": [
  {
   "cell_type": "markdown",
   "metadata": {},
   "source": [
    "# Import libraries"
   ]
  },
  {
   "cell_type": "code",
   "execution_count": 1,
   "metadata": {},
   "outputs": [],
   "source": [
    "# Usual libraries are imported here\n",
    "import os\n",
    "import yaml\n",
    "import dask.dataframe as dd\n",
    "import pandas as pd\n",
    "import matplotlib\n",
    "import numpy as np\n",
    "import matplotlib.pyplot as plt\n",
    "%matplotlib inline"
   ]
  },
  {
   "cell_type": "markdown",
   "metadata": {},
   "source": [
    "My code"
   ]
  },
  {
   "cell_type": "markdown",
   "metadata": {},
   "source": [
    "1.the number of transactions are in GBP"
   ]
  },
  {
   "cell_type": "code",
   "execution_count": 5,
   "metadata": {},
   "outputs": [],
   "source": [
    "#import the date\n",
    "date=pd.read_csv(\"C:/Users/59209/Desktop/transactions/transactions.csv\",header=None)\n",
    "date.head()\n",
    "CURRENCY=[row[0] for row in date.values.tolist()]"
   ]
  },
  {
   "cell_type": "code",
   "execution_count": 8,
   "metadata": {},
   "outputs": [
    {
     "name": "stdout",
     "output_type": "stream",
     "text": [
      "the number of transactions are in GBP=  339091\n"
     ]
    }
   ],
   "source": [
    "count_gbp=0\n",
    "for i in CURRENCY:\n",
    "    if i =='GBP':\n",
    "        count_gbp+=1\n",
    "print('the number of transactions are in GBP= ',count_gbp)"
   ]
  },
  {
   "cell_type": "markdown",
   "metadata": {},
   "source": [
    "2.How many transactions are NOT in USD?"
   ]
  },
  {
   "cell_type": "code",
   "execution_count": 9,
   "metadata": {},
   "outputs": [
    {
     "name": "stdout",
     "output_type": "stream",
     "text": [
      "the number of transactions are not in USD= 657110\n"
     ]
    }
   ],
   "source": [
    "count_usd=0\n",
    "for i in CURRENCY:\n",
    "    if i!='USD':\n",
    "        count_usd+=1\n",
    "print('the number of transactions are not in USD=',count_usd)"
   ]
  },
  {
   "cell_type": "markdown",
   "metadata": {},
   "source": [
    "3.What is the average and mediam transaction in USD?"
   ]
  },
  {
   "cell_type": "code",
   "execution_count": 10,
   "metadata": {},
   "outputs": [],
   "source": [
    "#import the reansaction\n",
    "transaction=[row[1] for row in date.values.tolist()]"
   ]
  },
  {
   "cell_type": "code",
   "execution_count": 19,
   "metadata": {},
   "outputs": [
    {
     "name": "stdout",
     "output_type": "stream",
     "text": [
      "the average transaction in USD: 11598.75\n",
      "the mediam transaction in USD: 2000.0\n"
     ]
    }
   ],
   "source": [
    "USD_transaction=[]\n",
    "for i in range(len(CURRENCY)):\n",
    "    if CURRENCY[i]=='USD':\n",
    "        USD_transaction.append(int(transaction[i]))\n",
    "length=len(USD_transaction)\n",
    "USD_average=sum(USD_transaction)/length\n",
    "USD_transaction.sort()\n",
    "if length%2==0:\n",
    "    USD_mediam=0.5*(USD_transaction[int(length/2)]+USD_transaction[int(length/2+1)])\n",
    "else:\n",
    "    USD_mediam=USD_transaction[int(length/2)+1]\n",
    "print('the average transaction in USD:','%.2f'%USD_average)\n",
    "print('the mediam transaction in USD:',USD_mediam)"
   ]
  },
  {
   "cell_type": "markdown",
   "metadata": {},
   "source": [
    "4.Construct a table showing the number of transactions in EACH currency"
   ]
  },
  {
   "cell_type": "code",
   "execution_count": 20,
   "metadata": {},
   "outputs": [],
   "source": [
    "dict={}\n",
    "for i in CURRENCY:\n",
    "    if i not in dict:\n",
    "        dict[i]=1\n",
    "    else:\n",
    "        dict[i]+=1"
   ]
  },
  {
   "cell_type": "code",
   "execution_count": 26,
   "metadata": {},
   "outputs": [
    {
     "name": "stdout",
     "output_type": "stream",
     "text": [
      "Currency            Number              \n",
      "CURRENCY            1                   \n",
      "GBP                 339091              \n",
      "EUR                 264695              \n",
      "CHF                 5761                \n",
      "HUF                 1446                \n",
      "TRY                 338                 \n",
      "USD                 31542               \n",
      "PLN                 22362               \n",
      "LTC                 137                 \n",
      "RON                 5837                \n",
      "DKK                 1711                \n",
      "NZD                 717                 \n",
      "AUD                 2110                \n",
      "INR                 207                 \n",
      "THB                 690                 \n",
      "NOK                 2602                \n",
      "ZAR                 1126                \n",
      "AED                 847                 \n",
      "SEK                 1579                \n",
      "QAR                 28                  \n",
      "CAD                 1463                \n",
      "ILS                 522                 \n",
      "SGD                 487                 \n",
      "ETH                 197                 \n",
      "BTC                 283                 \n",
      "CZK                 1507                \n",
      "JPY                 733                 \n",
      "HKD                 480                 \n",
      "MAD                 115                 \n",
      "XRP                 38                  \n"
     ]
    }
   ],
   "source": [
    "print('{:<20}{:<20}'.format('Currency','Number'))\n",
    "for i in dict.keys():\n",
    "    print('{:<20}{:<20}'.format(i,dict[i]))"
   ]
  },
  {
   "cell_type": "code",
   "execution_count": null,
   "metadata": {},
   "outputs": [],
   "source": []
  }
 ],
 "metadata": {
  "kernelspec": {
   "display_name": "Python 3",
   "language": "python",
   "name": "python3"
  },
  "language_info": {
   "codemirror_mode": {
    "name": "ipython",
    "version": 3
   },
   "file_extension": ".py",
   "mimetype": "text/x-python",
   "name": "python",
   "nbconvert_exporter": "python",
   "pygments_lexer": "ipython3",
   "version": "3.8.5"
  }
 },
 "nbformat": 4,
 "nbformat_minor": 4
}
